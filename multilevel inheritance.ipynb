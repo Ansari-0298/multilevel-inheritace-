{
 "cells": [
  {
   "cell_type": "code",
   "execution_count": 2,
   "id": "d627aae4",
   "metadata": {},
   "outputs": [],
   "source": [
    "class parent:\n",
    "    def get_name(self,name):\n",
    "        self.name = name\n",
    "        \n",
    "    def show_name(self):\n",
    "        return self.name"
   ]
  },
  {
   "cell_type": "code",
   "execution_count": 3,
   "id": "ed9d17c5",
   "metadata": {},
   "outputs": [],
   "source": [
    "class child(parent):\n",
    "    def get_age(self,age):\n",
    "        self.age=age\n",
    "    \n",
    "    def show_age(Self):\n",
    "        return self.age"
   ]
  },
  {
   "cell_type": "code",
   "execution_count": 5,
   "id": "52bb32dd",
   "metadata": {},
   "outputs": [],
   "source": [
    "class grandchild(child):\n",
    "    def get_gender(self,gender):\n",
    "        self.gender=gender\n",
    "        \n",
    "    def show_gender(self):\n",
    "        return self.gender"
   ]
  },
  {
   "cell_type": "code",
   "execution_count": 6,
   "id": "f9ce9f9d",
   "metadata": {},
   "outputs": [],
   "source": [
    "gc=grandchild()"
   ]
  },
  {
   "cell_type": "code",
   "execution_count": 8,
   "id": "e26f488c",
   "metadata": {},
   "outputs": [],
   "source": [
    "gc.get_name(\"walter white\")"
   ]
  },
  {
   "cell_type": "code",
   "execution_count": 9,
   "id": "fb6bd698",
   "metadata": {},
   "outputs": [],
   "source": [
    "gc.get_age(35)"
   ]
  },
  {
   "cell_type": "code",
   "execution_count": 10,
   "id": "f6459afe",
   "metadata": {},
   "outputs": [],
   "source": [
    "gc.get_gender(\"male\")"
   ]
  },
  {
   "cell_type": "code",
   "execution_count": 12,
   "id": "3816b64c",
   "metadata": {},
   "outputs": [
    {
     "data": {
      "text/plain": [
       "'walter white'"
      ]
     },
     "execution_count": 12,
     "metadata": {},
     "output_type": "execute_result"
    }
   ],
   "source": [
    "gc.show_name()"
   ]
  },
  {
   "cell_type": "code",
   "execution_count": 13,
   "id": "49a8b9dd",
   "metadata": {},
   "outputs": [
    {
     "ename": "NameError",
     "evalue": "name 'self' is not defined",
     "output_type": "error",
     "traceback": [
      "\u001b[1;31m---------------------------------------------------------------------------\u001b[0m",
      "\u001b[1;31mNameError\u001b[0m                                 Traceback (most recent call last)",
      "\u001b[1;32m<ipython-input-13-c13f19fd6e3a>\u001b[0m in \u001b[0;36m<module>\u001b[1;34m\u001b[0m\n\u001b[1;32m----> 1\u001b[1;33m \u001b[0mgc\u001b[0m\u001b[1;33m.\u001b[0m\u001b[0mshow_age\u001b[0m\u001b[1;33m(\u001b[0m\u001b[1;33m)\u001b[0m\u001b[1;33m\u001b[0m\u001b[1;33m\u001b[0m\u001b[0m\n\u001b[0m",
      "\u001b[1;32m<ipython-input-3-f0bd8a494c00>\u001b[0m in \u001b[0;36mshow_age\u001b[1;34m(Self)\u001b[0m\n\u001b[0;32m      4\u001b[0m \u001b[1;33m\u001b[0m\u001b[0m\n\u001b[0;32m      5\u001b[0m     \u001b[1;32mdef\u001b[0m \u001b[0mshow_age\u001b[0m\u001b[1;33m(\u001b[0m\u001b[0mSelf\u001b[0m\u001b[1;33m)\u001b[0m\u001b[1;33m:\u001b[0m\u001b[1;33m\u001b[0m\u001b[1;33m\u001b[0m\u001b[0m\n\u001b[1;32m----> 6\u001b[1;33m         \u001b[1;32mreturn\u001b[0m \u001b[0mself\u001b[0m\u001b[1;33m.\u001b[0m\u001b[0mage\u001b[0m\u001b[1;33m\u001b[0m\u001b[1;33m\u001b[0m\u001b[0m\n\u001b[0m",
      "\u001b[1;31mNameError\u001b[0m: name 'self' is not defined"
     ]
    }
   ],
   "source": [
    "gc.show_age()"
   ]
  },
  {
   "cell_type": "code",
   "execution_count": 14,
   "id": "f496d19a",
   "metadata": {},
   "outputs": [
    {
     "data": {
      "text/plain": [
       "'male'"
      ]
     },
     "execution_count": 14,
     "metadata": {},
     "output_type": "execute_result"
    }
   ],
   "source": [
    "gc.show_gender()"
   ]
  },
  {
   "cell_type": "code",
   "execution_count": null,
   "id": "cf15eb51",
   "metadata": {},
   "outputs": [],
   "source": [
    "\n"
   ]
  }
 ],
 "metadata": {
  "kernelspec": {
   "display_name": "Python 3",
   "language": "python",
   "name": "python3"
  },
  "language_info": {
   "codemirror_mode": {
    "name": "ipython",
    "version": 3
   },
   "file_extension": ".py",
   "mimetype": "text/x-python",
   "name": "python",
   "nbconvert_exporter": "python",
   "pygments_lexer": "ipython3",
   "version": "3.8.8"
  }
 },
 "nbformat": 4,
 "nbformat_minor": 5
}
